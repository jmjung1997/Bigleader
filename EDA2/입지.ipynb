{
 "cells": [
  {
   "cell_type": "code",
   "execution_count": null,
   "id": "10edb2b4",
   "metadata": {},
   "outputs": [],
   "source": [
    "import pandas as pd\n",
    "import numpy as np\n",
    "\n",
    "jongsa= pd.read_csv('./data/mismatch/ws_insuarance.csv',encoding='utf-8')"
   ]
  },
  {
   "cell_type": "code",
   "execution_count": 1,
   "id": "0be27418",
   "metadata": {},
   "outputs": [
    {
     "ename": "NameError",
     "evalue": "name 'jongsa' is not defined",
     "output_type": "error",
     "traceback": [
      "\u001b[1;31m---------------------------------------------------------------------------\u001b[0m",
      "\u001b[1;31mNameError\u001b[0m                                 Traceback (most recent call last)",
      "Input \u001b[1;32mIn [1]\u001b[0m, in \u001b[0;36m<cell line: 1>\u001b[1;34m()\u001b[0m\n\u001b[1;32m----> 1\u001b[0m \u001b[43mjongsa\u001b[49m\u001b[38;5;241m.\u001b[39mdrop([\u001b[38;5;124m'\u001b[39m\u001b[38;5;124mUnnamed: 0\u001b[39m\u001b[38;5;124m'\u001b[39m], axis \u001b[38;5;241m=\u001b[39m \u001b[38;5;241m1\u001b[39m, inplace \u001b[38;5;241m=\u001b[39m \u001b[38;5;28;01mTrue\u001b[39;00m)\n\u001b[0;32m      2\u001b[0m jongsa\u001b[38;5;241m.\u001b[39mshape\n\u001b[0;32m      4\u001b[0m jongsa_g \u001b[38;5;241m=\u001b[39m jongsa\u001b[38;5;241m.\u001b[39mgroupby([\u001b[38;5;124m'\u001b[39m\u001b[38;5;124mSTDR_YM\u001b[39m\u001b[38;5;124m'\u001b[39m,\u001b[38;5;124m'\u001b[39m\u001b[38;5;124mCTPRVN_NM\u001b[39m\u001b[38;5;124m'\u001b[39m,\u001b[38;5;124m'\u001b[39m\u001b[38;5;124mSIGNGU_NM\u001b[39m\u001b[38;5;124m'\u001b[39m,\u001b[38;5;124m'\u001b[39m\u001b[38;5;124m산업_중분류\u001b[39m\u001b[38;5;124m'\u001b[39m], as_index\u001b[38;5;241m=\u001b[39m\u001b[38;5;28;01mFalse\u001b[39;00m)\u001b[38;5;241m.\u001b[39msum()\n",
      "\u001b[1;31mNameError\u001b[0m: name 'jongsa' is not defined"
     ]
    }
   ],
   "source": [
    "jongsa.drop(['Unnamed: 0'], axis = 1, inplace = True)\n",
    "jongsa.shape\n",
    "\n",
    "jongsa_g = jongsa.groupby(['STDR_YM','CTPRVN_NM','SIGNGU_NM','산업_중분류'], as_index=False).sum()\n",
    "jongsa_g.columns = ['STDR_YM','CTPRVN_NM','SIGNGU_NM','산업_중분류','A_지역_특정_산업']\n",
    "jongsa_g.head()\n",
    "\n",
    "jongsa_g_san = jongsa.groupby(['STDR_YM','산업_중분류'], as_index=False).sum()\n",
    "jongsa_g_san.columns = ['STDR_YM','산업_중분류','전_지역_특정_산업']\n",
    "jongsa_g_san.head()\n",
    "\n",
    "jongsa_g_jong = jongsa.groupby(['STDR_YM', 'CTPRVN_NM','SIGNGU_NM'], as_index=False).sum()\n",
    "jongsa_g_jong.columns = ['STDR_YM','CTPRVN_NM','SIGNGU_NM','A_지역_전체']\n",
    "jongsa_g_jong.head()\n",
    "\n",
    "jongsa_g_all = jongsa.groupby(['STDR_YM'], as_index=False).sum()\n",
    "jongsa_g_all.columns = ['STDR_YM','전체']\n",
    "jongsa_g_all\n",
    "\n",
    "merged1 = pd.merge(jongsa_g, jongsa_g_all, how='left', on='STDR_YM')\n",
    "\n",
    "merged2 = pd.merge(merged1, jongsa_g_jong, how='left', on=['STDR_YM','CTPRVN_NM','SIGNGU_NM'])\n",
    "\n",
    "merged_fin = pd.merge(merged2, jongsa_g_san, how='left', on=['STDR_YM','산업_중분류'])\n",
    "\n",
    "merged_fin['입지계수'] = (merged_fin['A_지역_특정_산업'] / merged_fin['A_지역_전체']) / (merged_fin['전_지역_특정_산업'] / merged_fin['전체'])\n",
    "\n",
    "merged_fin.to_csv('./co_p.csv', encoding='utf-8', index=False)\n",
    "\n",
    "city_list=jongsa_g['SIGNGU_NM'].values.tolist()\n",
    "sanup_list=jongsa_g['산업_중분류'].values.tolist()\n",
    "date_list=jongsa_g['STDR_YM'].values.tolist()"
   ]
  },
  {
   "cell_type": "markdown",
   "id": "ff65faf4",
   "metadata": {},
   "source": [
    "### 입지계수 = (A지역 특정 산업군 종사자 수/ A지역 전체 종사자 수) / (전 지역군 특정 산업군 종사자 수/전체 종사자수)"
   ]
  },
  {
   "cell_type": "code",
   "execution_count": 2,
   "id": "5ec93cfe",
   "metadata": {},
   "outputs": [
    {
     "ename": "SyntaxError",
     "evalue": "invalid syntax (4195965493.py, line 5)",
     "output_type": "error",
     "traceback": [
      "\u001b[1;36m  Input \u001b[1;32mIn [2]\u001b[1;36m\u001b[0m\n\u001b[1;33m    for sgg in tmp['CTPRVN_NM'==]\u001b[0m\n\u001b[1;37m                                ^\u001b[0m\n\u001b[1;31mSyntaxError\u001b[0m\u001b[1;31m:\u001b[0m invalid syntax\n"
     ]
    }
   ],
   "source": [
    "ypji = pd.DataFrame()\n",
    "\n",
    "for date in jongsa['STDR_YM'].unique():\n",
    "    tmp = jongsa['STDR_YM'==date]\n",
    "    for sgg in tmp['CTPRVN_NM'==]"
   ]
  },
  {
   "cell_type": "code",
   "execution_count": null,
   "id": "e48cfc8b",
   "metadata": {},
   "outputs": [],
   "source": [
    "ypji=[]\n",
    "for i, j, z in zip(city_list, sanup_list, date_list):\n",
    "        city=str(i)\n",
    "        sanup=str(j)\n",
    "        date=z\n",
    "        jongsa_sum=jongsa_g[jongsa['STDR_YM']==date]['피보험자수'].sum() #각년 전체 종사자 수\n",
    "        sum_region=jongsa_g[(jongsa['STDR_YM']==date)&(jongsa['산업_중분류']==sanup)]['피보험자수'].sum() #각 년도에 전 지역군 산업별 종사자수\n",
    "        region_co=jongsa_g[(jongsa['STDR_YM']==date)&(jongsa['SIGNGU_NM']==city)& (jongsa['산업_중분류']==sanup)]['피보험자수'].sum() #각 년도 특정 지역 특정 산업군 종사자 수\n",
    "        region_sum=jongsa_g[(jongsa['STDR_YM']==date)&(jongsa['SIGNGU_NM']==city)]['피보험자수'].sum() #각 년도 특정 지역 종사자 수\n",
    "        \n",
    "        result=(region_co/region_sum)/(sum_region/jongsa_sum)\n",
    "        ypji.append(result.round(4))"
   ]
  }
 ],
 "metadata": {
  "kernelspec": {
   "display_name": "Python 3 (ipykernel)",
   "language": "python",
   "name": "python3"
  },
  "language_info": {
   "codemirror_mode": {
    "name": "ipython",
    "version": 3
   },
   "file_extension": ".py",
   "mimetype": "text/x-python",
   "name": "python",
   "nbconvert_exporter": "python",
   "pygments_lexer": "ipython3",
   "version": "3.9.12"
  }
 },
 "nbformat": 4,
 "nbformat_minor": 5
}
