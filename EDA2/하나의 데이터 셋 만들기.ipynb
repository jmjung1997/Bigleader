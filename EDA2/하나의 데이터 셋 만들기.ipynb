{
 "cells": [
  {
   "cell_type": "code",
   "execution_count": 2,
   "id": "a09f4896",
   "metadata": {},
   "outputs": [],
   "source": [
    "import pandas as pd\n",
    "import numpy as np\n",
    "pd.set_option('display.max_columns', None)\n",
    "\n",
    "insurance= pd.read_excel('./data/extra/insurance_final3.xlsx')\n",
    "silup= pd.read_excel('./data/extra/silup_clean_v2.xlsx')\n",
    "swj = pd.read_excel('./data/extra/swj_birthday.xlsx')\n",
    "elec= pd.read_excel('./data/extra/Use_elec.xlsx')\n",
    "\n",
    "\n",
    "sum_join= pd.read_csv('./data/total/sum_join.csv' ,encoding='cp949')\n",
    "\n",
    "sum_join.head()\n",
    "\n",
    "sum_join.isnull().sum()\n",
    "\n",
    "sum_join.reset_index(drop=True, inplace=True)\n",
    "insurance.reset_index(drop=True, inplace=True)\n",
    "silup.reset_index(drop=True, inplace=True)\n",
    "swj.reset_index(drop=True, inplace=True)\n",
    "elec.reset_index(drop=True, inplace=True)\n",
    "\n",
    "merged_outer = pd.merge(sum_join, insurance, how='left',on=['STDR_YM','CTPRVN_NM','SIGNGU_NM'])\n",
    "merged_inner1 = pd.merge(merged_outer, silup,how='left', on=['STDR_YM','CTPRVN_NM','SIGNGU_NM'])\n",
    "merged_inner2 = pd.merge(merged_inner1, swj,how='left', on=['STDR_YM','CTPRVN_NM','SIGNGU_NM'])\n",
    "merged_inner3 = pd.merge(merged_inner2, elec,how='left',on=['STDR_YM','CTPRVN_NM','SIGNGU_NM'])\n",
    "\n",
    "merged_inner3\n",
    "\n",
    "merged_inner3[merged_inner3['수급자격신청자수'].isnull()]\n",
    "\n",
    "one_data=merged_inner3\n",
    "\n",
    "one_data[one_data['수급자격신청자수'].isnull()]\n",
    "\n",
    "one_data.to_excel('one_data.xlsx',index=False) #하나의 데이터셋으로 취합 완료 \n",
    "\n",
    "elec[elec['SIGNGU_NM']=='미추홀구']"
   ]
  },
  {
   "cell_type": "markdown",
   "id": "356ff8c2",
   "metadata": {},
   "source": []
  }
 ],
 "metadata": {
  "kernelspec": {
   "display_name": "Python 3 (ipykernel)",
   "language": "python",
   "name": "python3"
  },
  "language_info": {
   "codemirror_mode": {
    "name": "ipython",
    "version": 3
   },
   "file_extension": ".py",
   "mimetype": "text/x-python",
   "name": "python",
   "nbconvert_exporter": "python",
   "pygments_lexer": "ipython3",
   "version": "3.9.12"
  }
 },
 "nbformat": 4,
 "nbformat_minor": 5
}
