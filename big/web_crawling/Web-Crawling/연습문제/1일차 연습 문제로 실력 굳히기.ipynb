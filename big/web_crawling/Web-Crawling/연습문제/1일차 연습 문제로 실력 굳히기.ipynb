{
 "cells": [
  {
   "cell_type": "markdown",
   "id": "19da4e5c",
   "metadata": {},
   "source": [
    "1. 네이버 사이트에서 \"서진수 빅데이터\"로 검색한 후 \"뉴스\" 카테고리를 선택하여 조회된 기사들을 수집하여 txt형식으로 저장하세요"
   ]
  },
  {
   "cell_type": "code",
   "execution_count": 1,
   "id": "9d5988c8",
   "metadata": {},
   "outputs": [
    {
     "name": "stdout",
     "output_type": "stream",
     "text": [
      "Defaulting to user installation because normal site-packages is not writeable\n",
      "Requirement already satisfied: selenium==4.1.5 in c:\\users\\jmjun\\appdata\\roaming\\python\\python39\\site-packages (4.1.5)\n",
      "Requirement already satisfied: trio-websocket~=0.9 in c:\\users\\jmjun\\appdata\\roaming\\python\\python39\\site-packages (from selenium==4.1.5) (0.9.2)\n",
      "Requirement already satisfied: trio~=0.17 in c:\\users\\jmjun\\appdata\\roaming\\python\\python39\\site-packages (from selenium==4.1.5) (0.21.0)\n",
      "Requirement already satisfied: urllib3[secure,socks]~=1.26 in c:\\programdata\\anaconda3\\lib\\site-packages (from selenium==4.1.5) (1.26.9)\n",
      "Requirement already satisfied: attrs>=19.2.0 in c:\\programdata\\anaconda3\\lib\\site-packages (from trio~=0.17->selenium==4.1.5) (21.4.0)\n",
      "Requirement already satisfied: sortedcontainers in c:\\programdata\\anaconda3\\lib\\site-packages (from trio~=0.17->selenium==4.1.5) (2.4.0)\n",
      "Requirement already satisfied: cffi>=1.14 in c:\\programdata\\anaconda3\\lib\\site-packages (from trio~=0.17->selenium==4.1.5) (1.15.0)\n",
      "Requirement already satisfied: idna in c:\\programdata\\anaconda3\\lib\\site-packages (from trio~=0.17->selenium==4.1.5) (3.3)\n",
      "Requirement already satisfied: async-generator>=1.9 in c:\\users\\jmjun\\appdata\\roaming\\python\\python39\\site-packages (from trio~=0.17->selenium==4.1.5) (1.10)\n",
      "Requirement already satisfied: sniffio in c:\\programdata\\anaconda3\\lib\\site-packages (from trio~=0.17->selenium==4.1.5) (1.2.0)\n",
      "Requirement already satisfied: outcome in c:\\users\\jmjun\\appdata\\roaming\\python\\python39\\site-packages (from trio~=0.17->selenium==4.1.5) (1.2.0)\n",
      "Requirement already satisfied: pycparser in c:\\programdata\\anaconda3\\lib\\site-packages (from cffi>=1.14->trio~=0.17->selenium==4.1.5) (2.21)\n",
      "Requirement already satisfied: wsproto>=0.14 in c:\\users\\jmjun\\appdata\\roaming\\python\\python39\\site-packages (from trio-websocket~=0.9->selenium==4.1.5) (1.1.0)\n",
      "Requirement already satisfied: pyOpenSSL>=0.14 in c:\\programdata\\anaconda3\\lib\\site-packages (from urllib3[secure,socks]~=1.26->selenium==4.1.5) (21.0.0)\n",
      "Requirement already satisfied: certifi in c:\\programdata\\anaconda3\\lib\\site-packages (from urllib3[secure,socks]~=1.26->selenium==4.1.5) (2021.10.8)\n",
      "Requirement already satisfied: cryptography>=1.3.4 in c:\\programdata\\anaconda3\\lib\\site-packages (from urllib3[secure,socks]~=1.26->selenium==4.1.5) (3.4.8)\n",
      "Requirement already satisfied: PySocks!=1.5.7,<2.0,>=1.5.6 in c:\\programdata\\anaconda3\\lib\\site-packages (from urllib3[secure,socks]~=1.26->selenium==4.1.5) (1.7.1)\n",
      "Requirement already satisfied: six>=1.5.2 in c:\\programdata\\anaconda3\\lib\\site-packages (from pyOpenSSL>=0.14->urllib3[secure,socks]~=1.26->selenium==4.1.5) (1.16.0)\n",
      "Requirement already satisfied: h11<1,>=0.9.0 in c:\\users\\jmjun\\appdata\\roaming\\python\\python39\\site-packages (from wsproto>=0.14->trio-websocket~=0.9->selenium==4.1.5) (0.13.0)\n",
      "Note: you may need to restart the kernel to use updated packages.\n"
     ]
    }
   ],
   "source": [
    "pip install selenium==4.1.5"
   ]
  },
  {
   "cell_type": "code",
   "execution_count": 2,
   "id": "3c51aad7",
   "metadata": {},
   "outputs": [
    {
     "name": "stdout",
     "output_type": "stream",
     "text": [
      "====================================================================================================\n",
      " 이 크롤러는 riss 사이트의 논문 자료 수집용 웹크롤러입니다.\n",
      "====================================================================================================\n",
      "1.수집할 자료의 키워드는 무엇입니까?(예: 서진수 빅데이터): 서진수 빅데이터\n",
      "\n",
      "\n"
     ]
    }
   ],
   "source": [
    "from selenium import webdriver\n",
    "from selenium.webdriver.common.by import By\n",
    "from selenium.webdriver.common.keys import Keys\n",
    "from selenium.webdriver.chrome.service import Service\n",
    "import time          \n",
    "\n",
    "#Step 2. 사용자에게 검색 관련 정보들을 입력 받습니다.\n",
    "print(\"=\" *100)\n",
    "print(\" 이 크롤러는 riss 사이트의 논문 자료 수집용 웹크롤러입니다.\")\n",
    "print(\"=\" *100)\n",
    "query_txt = input('1.수집할 자료의 키워드는 무엇입니까?(예: 서진수 빅데이터): ')\n",
    "print(\"\\n\")\n",
    "\n",
    "#Step 3. 크롬 드라이버 설정 및 웹 페이지 열기\n",
    "s = Service(\"c:/py_temp/chromedriver.exe\")\n",
    "driver = webdriver.Chrome(service=s)\n",
    "\n",
    "url = 'https://www.naver.com/'\n",
    "driver.get(url)\n",
    "time.sleep(5) #기다려라 왜? 다음 작업을 하기 위해서 페이지가 다 열릴 때까지 기다린다. \n",
    "driver.maximize_window()# 전체 화면으로 키워라\n",
    "\n",
    "#Step 4. 자동으로 검색어 입력 후 조회하기\n",
    "element = driver.find_element(By.ID,'query')\n",
    "driver.find_element(By.ID,'query').click( )\n",
    "element.send_keys(query_txt)\n",
    "element.send_keys(\"\\n\")"
   ]
  },
  {
   "cell_type": "code",
   "execution_count": 3,
   "id": "393b336d",
   "metadata": {},
   "outputs": [
    {
     "name": "stdout",
     "output_type": "stream",
     "text": [
      "1\n"
     ]
    }
   ],
   "source": [
    "print(1)"
   ]
  },
  {
   "cell_type": "code",
   "execution_count": 7,
   "id": "ba3a1065",
   "metadata": {},
   "outputs": [
    {
     "name": "stdout",
     "output_type": "stream",
     "text": [
      "문서 저장하기  Keep에 저장 Keep 바로가기  베타뉴스2018.04.11. 빅데이터 전문가 서진수, '강사양성' 직접 나선다   해당 과정에 대한 내용은 오프라인 설명회에서 공개되며, 참가를 원하는 사람은 19일까지 온오프믹스 홈페이지(KBS 명견만리 서진수 직강 '빅데이터 전문강사 되기' 무료 세미나)를 통해 신청하면 된다. 서진수 대표에...\n",
      "\n",
      "\n",
      "문서 저장하기  Keep에 저장 Keep 바로가기  중도일보2018.04.10. 빅데이터 전문가 서진수, 4차 산업혁명 시대의 가치와 준비 방법 제시   지난 6일, 성수동 카페에서 진행된 명사와의 인터뷰에서 빅데이터 전문가 서진수 대표가 4차산업혁명과 빅데이터, 미래에 대해 약 4시간 동안 다양한 이야기를 나눴다. Q. 간단하게 본인 소개 부탁 드립니다. A. 저는 고향이...\n",
      "\n",
      "\n",
      "문서 저장하기  Keep에 저장 Keep 바로가기  게임포커스2015.08.10. '빅데이터 분석 전도사' 서진수 소장 \"데이터 분석, 누구나 할 수 있다\"   게임포커스는 '빅데이터 분석 전도사'로 잘 알려진 서진수 데이터컨시어지랩 연구소장을 만나 빅데이터, 빅데이터 전문가란 어떤 것인지, 그가 강연 등에서 소개한 데이터 분석 툴 'R'은 어떤 것인지 들어봤다....\n",
      "\n",
      "\n",
      "문서 저장하기  Keep에 저장 Keep 바로가기  연합뉴스2015.05.20.네이버뉴스 '빅데이터 분석 전도사' 서진수, 무료 강연 진행   ▲도서출판더알음(대표 서진수)은 빅데이터 활용과 관련해 대학교와 대학원, 회사 등에서 무료 지식특강을 진행한다고 20일 밝혔다. 입문자와 초보자를 위한 빅데이터 분석 방법을 다루는 이번 강의는 취업난을 겪고...\n",
      "\n",
      "\n",
      "문서 저장하기  Keep에 저장 Keep 바로가기  SBS CNBC2015.05.18.네이버뉴스 빅데이터 전문가 서진수 청년들의 희망 멘토로 강단 서다   저자 서진수는 \"빅데이터는 앞으로 산업 분야를 가리지 않고 우리가 사는 미래를 예측할 수 있는 도구가 될 것\"이라고 예상하면서 \"데이터 분석에 입문하고자 하는 분들이나 현직에서 데이터 관련 업무를 하고 있지만...\n",
      "\n",
      "\n"
     ]
    }
   ],
   "source": [
    "#Step 6.Beautiful Soup 로 본문 내용만 추출하기\n",
    "from bs4 import BeautifulSoup\n",
    "html_1 = driver.page_source #현재 페이지의 전체 소스코드를 다 가져오기\n",
    "soup_1 = BeautifulSoup(html_1, 'html.parser')\n",
    "\n",
    "content_1 = soup_1.find('div', 'group_news').find_all('li')\n",
    "for i in content_1 :\n",
    "    print(i.get_text().replace(\"\\n\",\" \").strip())\n",
    "    print(\"\\n\")"
   ]
  },
  {
   "cell_type": "code",
   "execution_count": 8,
   "id": "c5fae431",
   "metadata": {},
   "outputs": [
    {
     "name": "stdout",
     "output_type": "stream",
     "text": [
      "결과를 저장할 파일명을 쓰세요(예: c:\\py_temp\\practice1.txt): c:\\py_temp\\practice1.txt\n",
      "요청하신 데이터 수집 작업이 정상적으로 완료되었습니다\n",
      "수집된 결과는 c:\\py_temp\\practice1.txt 에 저장되었습니다\n"
     ]
    }
   ],
   "source": [
    "#Step 7. 표준 출력 방향을 바꾸어 txt 파일에 저장하기\n",
    "import sys \n",
    "f_name = input('결과를 저장할 파일명을 쓰세요(예: c:\\\\py_temp\\\\practice1.txt): ')\n",
    "\n",
    "orig_stdout = sys.stdout\n",
    "file = open(f_name , 'a' , encoding='UTF-8')\n",
    "sys.stdout = file  #모니터에 출력하지 말고 file 에 출력해라\n",
    "\n",
    "for i in content_1 :\n",
    "    print(i.get_text().replace(\"\\n\",\"\"))\n",
    "\n",
    "file.close()    \n",
    "sys.stdout = orig_stdout  #원래대로 변경 - 다시 화면에 출력시켜라    \n",
    "\n",
    "print('요청하신 데이터 수집 작업이 정상적으로 완료되었습니다')\n",
    "print('수집된 결과는 %s 에 저장되었습니다' %f_name)"
   ]
  },
  {
   "cell_type": "markdown",
   "id": "7c438112",
   "metadata": {},
   "source": [
    "3. 한국관광공사의 대한민국 구석구석 사이트(https://korean.visitkorea.or.kr) 에서 “제주도” 키워드\n",
    "로 검색 한 후 화면 오른쪽의 “어제의 인기 검색어” 목록을 수집하여 txt 형식으로 저장하세요.\n",
    "(단 파일경로와 이름은 자유롭게 선택하세요)\n"
   ]
  },
  {
   "cell_type": "code",
   "execution_count": 11,
   "id": "ecbce4e9",
   "metadata": {},
   "outputs": [
    {
     "name": "stdout",
     "output_type": "stream",
     "text": [
      "====================================================================================================\n",
      " 이 크롤러는 대한민국 구석구석 사이트의 자동 검색용 웹크롤러입니다.\n",
      "====================================================================================================\n",
      "1.수집할 자료의 키워드는 무엇입니까?(예: 제주도): 제주도\n",
      "\n",
      "\n"
     ]
    }
   ],
   "source": [
    "from selenium import webdriver\n",
    "from selenium.webdriver.common.by import By\n",
    "from selenium.webdriver.common.keys import Keys\n",
    "from selenium.webdriver.chrome.service import Service\n",
    "import time \n",
    "\n",
    "#Step 2. 사용자에게 검색 관련 정보들을 입력 받습니다.\n",
    "print(\"=\" *100)\n",
    "print(\" 이 크롤러는 대한민국 구석구석 사이트의 자동 검색용 웹크롤러입니다.\")\n",
    "print(\"=\" *100)\n",
    "query_txt = input('1.수집할 자료의 키워드는 무엇입니까?(예: 제주도): ')\n",
    "print(\"\\n\")\n",
    "\n",
    "#Step 3. 크롬 드라이버 설정 및 웹 페이지 열기\n",
    "s = Service(\"c:/py_temp/chromedriver.exe\")\n",
    "driver = webdriver.Chrome(service=s)\n",
    "\n",
    "url = 'https://korean.visitkorea.or.kr'\n",
    "driver.get(url)\n",
    "time.sleep(3)\n",
    "driver.maximize_window()\n",
    "\n",
    "# 팝업 안내창 모두 닫기\n",
    "main = driver.window_handles \n",
    "for handle in main: \n",
    "    if handle != main[0]: \n",
    "        driver.switch_to_window(handle) \n",
    "        driver.close()\n",
    "\n",
    "# 원래 창으로 돌아가기\n",
    "driver.switch_to.window(driver.window_handles[0])    \n",
    "       \n",
    "#Step 3. 검색창의 이름을 찾아서 검색어를 입력하고 검색을 실행합니다\n",
    "#Step 4. 자동으로 검색어 입력 후 조회하기\n",
    "element = driver.find_element(By.ID,'inp_search')\n",
    "driver.find_element(By.ID,'inp_search').click( )\n",
    "element.send_keys(query_txt)\n",
    "element.send_keys(\"\\n\")"
   ]
  },
  {
   "cell_type": "code",
   "execution_count": 14,
   "id": "b3fcf1fe",
   "metadata": {},
   "outputs": [
    {
     "name": "stdout",
     "output_type": "stream",
     "text": [
      "1제주도\n",
      "2계곡\n",
      "3부산\n",
      "4서울\n",
      "5강원도\n",
      "6경주\n",
      "7경기도\n",
      "8여수\n",
      "9속초\n",
      "10강릉\n"
     ]
    }
   ],
   "source": [
    "#Step 6.Beautiful Soup 로 본문 내용만 추출하기\n",
    "from bs4 import BeautifulSoup\n",
    "html_1 = driver.page_source #현재 페이지의 전체 소스코드를 다 가져오기\n",
    "soup_3 = BeautifulSoup(html_1, 'html.parser')\n",
    "\n",
    "content_1 = soup_3.find('div','area_sWordList').find_all('a')\n",
    "for i in content_1 :\n",
    "    print(i.get_text().replace(\"\\n\",\" \").strip())"
   ]
  },
  {
   "cell_type": "code",
   "execution_count": 15,
   "id": "45de4591",
   "metadata": {},
   "outputs": [
    {
     "name": "stdout",
     "output_type": "stream",
     "text": [
      "결과를 저장할 파일명을 쓰세요(예: c:\\py_temp\\practice3.txt): c:\\py_temp\\practice3.txt\n",
      "요청하신 데이터 수집 작업이 정상적으로 완료되었습니다\n",
      "수집된 결과는 c:\\py_temp\\practice3.txt 에 저장되었습니다\n"
     ]
    }
   ],
   "source": [
    "#Step 7. 표준 출력 방향을 바꾸어 txt 파일에 저장하기\n",
    "import sys \n",
    "f_name = input('결과를 저장할 파일명을 쓰세요(예: c:\\\\py_temp\\\\practice3.txt): ')\n",
    "\n",
    "orig_stdout = sys.stdout\n",
    "file = open(f_name , 'a' , encoding='UTF-8')\n",
    "sys.stdout = file  #모니터에 출력하지 말고 file 에 출력해라\n",
    "\n",
    "for i in content_1 :\n",
    "    print(i.get_text().replace(\"\\n\",\"\"))\n",
    "\n",
    "file.close()    \n",
    "sys.stdout = orig_stdout  #원래대로 변경 - 다시 화면에 출력시켜라    \n",
    "\n",
    "print('요청하신 데이터 수집 작업이 정상적으로 완료되었습니다')\n",
    "print('수집된 결과는 %s 에 저장되었습니다' %f_name)"
   ]
  },
  {
   "cell_type": "markdown",
   "id": "e0bc4f54",
   "metadata": {},
   "source": [
    "4. 한국관광공사의 대한민국 구석구석 사이트(https://korean.visitkorea.or.kr) 에서 “제주도” 키워드\n",
    "로 검색 한 후 검색 결과 목록을 수집하여 txt 형식으로 저장하세요.\n",
    "(단 파일경로와 이름은 자유롭게 선택하세요)"
   ]
  },
  {
   "cell_type": "code",
   "execution_count": 17,
   "id": "5465c32f",
   "metadata": {},
   "outputs": [
    {
     "name": "stdout",
     "output_type": "stream",
     "text": [
      "====================================================================================================\n",
      " 이 크롤러는 대한민국 구석구석 사이트의 자동 검색용 웹크롤러입니다.\n",
      "====================================================================================================\n",
      "1.수집할 자료의 키워드는 무엇입니까?(예: 제주도): 제주도\n",
      "\n",
      "\n"
     ]
    }
   ],
   "source": [
    "from selenium import webdriver\n",
    "from selenium.webdriver.common.by import By\n",
    "from selenium.webdriver.common.keys import Keys\n",
    "from selenium.webdriver.chrome.service import Service\n",
    "import time \n",
    "\n",
    "#Step 2. 사용자에게 검색 관련 정보들을 입력 받습니다.\n",
    "print(\"=\" *100)\n",
    "print(\" 이 크롤러는 대한민국 구석구석 사이트의 자동 검색용 웹크롤러입니다.\")\n",
    "print(\"=\" *100)\n",
    "query_txt = input('1.수집할 자료의 키워드는 무엇입니까?(예: 제주도): ')\n",
    "print(\"\\n\")\n",
    "\n",
    "#Step 3. 크롬 드라이버 설정 및 웹 페이지 열기\n",
    "s = Service(\"c:/py_temp/chromedriver.exe\")\n",
    "driver = webdriver.Chrome(service=s)\n",
    "\n",
    "url = 'https://korean.visitkorea.or.kr'\n",
    "driver.get(url)\n",
    "time.sleep(3)\n",
    "driver.maximize_window()\n",
    "\n",
    "# 팝업 안내창 모두 닫기\n",
    "main = driver.window_handles \n",
    "for handle in main: \n",
    "    if handle != main[0]: \n",
    "        driver.switch_to_window(handle) \n",
    "        driver.close()\n",
    "\n",
    "# 원래 창으로 돌아가기\n",
    "driver.switch_to.window(driver.window_handles[0])    \n",
    "       \n",
    "#Step 3. 검색창의 이름을 찾아서 검색어를 입력하고 검색을 실행합니다\n",
    "#Step 4. 자동으로 검색어 입력 후 조회하기\n",
    "element = driver.find_element(By.ID,'inp_search')\n",
    "driver.find_element(By.ID,'inp_search').click( )\n",
    "element.send_keys(query_txt)\n",
    "element.send_keys(\"\\n\")"
   ]
  },
  {
   "cell_type": "code",
   "execution_count": 20,
   "id": "50560040",
   "metadata": {},
   "outputs": [
    {
     "name": "stdout",
     "output_type": "stream",
     "text": [
      "1\n"
     ]
    }
   ],
   "source": [
    "#Step 6.Beautiful Soup 로 본문 내용만 추출하기\n",
    "from bs4 import BeautifulSoup\n",
    "html_1 = driver.page_source #현재 페이지의 전체 소스코드를 다 가져오기\n",
    "soup_3 = BeautifulSoup(html_1, 'html.parser')\n",
    "\n",
    "content_1 = soup_3.find('div','search_body').find_all('li')\n",
    "for i in content_1 :\n",
    "    print(i.get_text().replace(\"\\n\",\" \").strip())\n",
    "print(1)"
   ]
  },
  {
   "cell_type": "code",
   "execution_count": 24,
   "id": "4cb605df",
   "metadata": {},
   "outputs": [],
   "source": [
    "content_1 = soup_3.find_all('div','search_body')"
   ]
  },
  {
   "cell_type": "code",
   "execution_count": 27,
   "id": "27829110",
   "metadata": {},
   "outputs": [
    {
     "data": {
      "text/plain": [
       "<div class=\"search_body\" id=\"albumBody\" style=\"display: none;\">\n",
       "<h2 class=\"blind\">앨범형</h2>\n",
       "<div class=\"imgtype_list\">\n",
       "<ul class=\"list_thumType\">\n",
       "</ul>\n",
       "<!-- paging -->\n",
       "</div>\n",
       "<div class=\"page_box\" id=\"page_box\" style=\"display: block;\"><a class=\"on\" href=\"javascript:\" id=\"1\" title=\"선택됨\">1</a> <a href=\"javascript:\" id=\"2\">2</a> <a href=\"javascript:\" id=\"3\">3</a> <a href=\"javascript:\" id=\"4\">4</a> <a href=\"javascript:\" id=\"5\">5</a> <a class=\"btn_next ico\" href=\"javascript:\" id=\"6\">다음</a><a class=\"btn_last ico\" href=\"javascript:\" id=\"167\">끝</a></div>\n",
       "</div>"
      ]
     },
     "execution_count": 27,
     "metadata": {},
     "output_type": "execute_result"
    }
   ],
   "source": [
    "content_1[2]"
   ]
  },
  {
   "cell_type": "code",
   "execution_count": null,
   "id": "7caf7ad7",
   "metadata": {},
   "outputs": [],
   "source": []
  }
 ],
 "metadata": {
  "kernelspec": {
   "display_name": "Python 3 (ipykernel)",
   "language": "python",
   "name": "python3"
  },
  "language_info": {
   "codemirror_mode": {
    "name": "ipython",
    "version": 3
   },
   "file_extension": ".py",
   "mimetype": "text/x-python",
   "name": "python",
   "nbconvert_exporter": "python",
   "pygments_lexer": "ipython3",
   "version": "3.9.12"
  }
 },
 "nbformat": 4,
 "nbformat_minor": 5
}
