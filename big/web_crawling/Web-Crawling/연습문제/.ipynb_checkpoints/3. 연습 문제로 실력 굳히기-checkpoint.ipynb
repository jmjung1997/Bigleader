{
 "cells": [
  {
   "cell_type": "markdown",
   "id": "1dce1e18",
   "metadata": {},
   "source": [
    "1.아래 그림과 같이 서울시 응답소 페이지에서 “시장에게 바란다” 메뉴에 있는 게시물 58건을 수\n",
    "집하는 웹 크롤러를 만들어 보세요"
   ]
  },
  {
   "cell_type": "code",
   "execution_count": 99,
   "id": "ea536995",
   "metadata": {},
   "outputs": [
    {
     "name": "stdout",
     "output_type": "stream",
     "text": [
      "====================================================================================================\n",
      " 이 크롤러는 서울시 응답소 페이지에서 “시장에게 바란다”입니다.\n",
      "====================================================================================================\n",
      "\n",
      "\n",
      "\n",
      "\n",
      "\n",
      "\n"
     ]
    }
   ],
   "source": [
    "# riss.kr 에서 특정 키워드로 논문 / 학술 자료 검색하기\n",
    "\n",
    "#Step 1. 필요한 모듈을 로딩합니다\n",
    "from selenium import webdriver\n",
    "from selenium.webdriver.common.by import By\n",
    "from selenium.webdriver.common.keys import Keys\n",
    "from selenium.webdriver.chrome.service import Service\n",
    "from bs4 import BeautifulSoup     \n",
    "import pandas as pd   \n",
    "import openpyxl\n",
    "import math\n",
    "import time  \n",
    "\n",
    "# Step 2. 크롬 드라이버 설정 \n",
    "s = Service(\"c:/py_temp/chromedriver.exe\")\n",
    "driver = webdriver.Chrome(service=s)\n",
    "\n",
    "#Step 3. 사용자에게 검색 관련 정보들을 입력 받습니다.\n",
    "print(\"=\" *100)\n",
    "print(\" 이 크롤러는 서울시 응답소 페이지에서 “시장에게 바란다”입니다.\")\n",
    "print(\"=\" *100)\n",
    "\n",
    "print(\"\\n\")\n",
    "\n",
    "\n",
    "print(\"\\n\")\n",
    "\n",
    "\n",
    "print(\"\\n\")   \n",
    "\n",
    "#Step 4. 검색어 입력한 후 검색하여 해당 장르로 이동하기\n",
    "\n",
    "url='https://eungdapso.seoul.go.kr/'\n",
    "driver.get(url)\n",
    "time.sleep(5)\n",
    "driver.maximize_window()\n",
    "driver.find_element(By.XPATH,'//*[@id=\"gnb\"]/div[4]/div[2]/div/a').click( )"
   ]
  },
  {
   "cell_type": "code",
   "execution_count": 107,
   "id": "bef23735",
   "metadata": {},
   "outputs": [
    {
     "name": "stdout",
     "output_type": "stream",
     "text": [
      "이 중에서 몇 건을 수집하시겠습니까?: 25\n",
      "25 건의 데이터를 수집하기 위해 3 페이지의 게시물을 조회합니다.\n",
      "================================================================================\n",
      "결과를 저장할 폴더명을 쓰세요(예: c:\\py_temp\\: 123\n"
     ]
    },
    {
     "ename": "NoSuchElementException",
     "evalue": "Message: no such element: Unable to locate element: {\"method\":\"xpath\",\"selector\":\"//*[@id=\"content_cont\"]/div[2]/div/form/div[4]/table/tbody/tr[2]/td[2]/a\"}\n  (Session info: chrome=103.0.5060.114)\nStacktrace:\nBacktrace:\n\tOrdinal0 [0x005D6463+2188387]\n\tOrdinal0 [0x0056E461+1762401]\n\tOrdinal0 [0x00483D78+802168]\n\tOrdinal0 [0x004B1880+989312]\n\tOrdinal0 [0x004B1B1B+989979]\n\tOrdinal0 [0x004DE912+1173778]\n\tOrdinal0 [0x004CC824+1099812]\n\tOrdinal0 [0x004DCC22+1166370]\n\tOrdinal0 [0x004CC5F6+1099254]\n\tOrdinal0 [0x004A6BE0+945120]\n\tOrdinal0 [0x004A7AD6+948950]\n\tGetHandleVerifier [0x008771F2+2712546]\n\tGetHandleVerifier [0x0086886D+2652765]\n\tGetHandleVerifier [0x0066002A+520730]\n\tGetHandleVerifier [0x0065EE06+516086]\n\tOrdinal0 [0x0057468B+1787531]\n\tOrdinal0 [0x00578E88+1805960]\n\tOrdinal0 [0x00578F75+1806197]\n\tOrdinal0 [0x00581DF1+1842673]\n\tBaseThreadInitThunk [0x757CFA29+25]\n\tRtlGetAppContainerNamedObjectPath [0x77947A9E+286]\n\tRtlGetAppContainerNamedObjectPath [0x77947A6E+238]\n",
     "output_type": "error",
     "traceback": [
      "\u001b[1;31m---------------------------------------------------------------------------\u001b[0m",
      "\u001b[1;31mNoSuchElementException\u001b[0m                    Traceback (most recent call last)",
      "Input \u001b[1;32mIn [107]\u001b[0m, in \u001b[0;36m<cell line: 20>\u001b[1;34m()\u001b[0m\n\u001b[0;32m     20\u001b[0m \u001b[38;5;28;01mfor\u001b[39;00m i \u001b[38;5;129;01min\u001b[39;00m \u001b[38;5;28mrange\u001b[39m(\u001b[38;5;241m1\u001b[39m,collect_cnt\u001b[38;5;241m+\u001b[39m\u001b[38;5;241m1\u001b[39m):\n\u001b[0;32m     21\u001b[0m     xpath \u001b[38;5;241m=\u001b[39m \u001b[38;5;124m'\u001b[39m\u001b[38;5;124m//*[@id=\u001b[39m\u001b[38;5;124m\"\u001b[39m\u001b[38;5;124mcontent_cont\u001b[39m\u001b[38;5;124m\"\u001b[39m\u001b[38;5;124m]/div[2]/div/form/div[4]/table/tbody/tr[\u001b[39m\u001b[38;5;124m'\u001b[39m\u001b[38;5;241m+\u001b[39m\u001b[38;5;28mstr\u001b[39m(i\u001b[38;5;241m+\u001b[39m\u001b[38;5;241m1\u001b[39m)\u001b[38;5;241m+\u001b[39m\u001b[38;5;124m'\u001b[39m\u001b[38;5;124m]/td[2]/a\u001b[39m\u001b[38;5;124m'\u001b[39m\n\u001b[1;32m---> 22\u001b[0m     \u001b[43mdriver\u001b[49m\u001b[38;5;241;43m.\u001b[39;49m\u001b[43mfind_element\u001b[49m\u001b[43m(\u001b[49m\u001b[43mBy\u001b[49m\u001b[38;5;241;43m.\u001b[39;49m\u001b[43mXPATH\u001b[49m\u001b[43m,\u001b[49m\u001b[43m \u001b[49m\u001b[43mxpath\u001b[49m\u001b[43m)\u001b[49m\u001b[38;5;241m.\u001b[39mclick()\n\u001b[0;32m     23\u001b[0m     html_1 \u001b[38;5;241m=\u001b[39m driver\u001b[38;5;241m.\u001b[39mpage_source\n\u001b[0;32m     24\u001b[0m     soup_1 \u001b[38;5;241m=\u001b[39m BeautifulSoup(html_1, \u001b[38;5;124m'\u001b[39m\u001b[38;5;124mhtml.parser\u001b[39m\u001b[38;5;124m'\u001b[39m)\n",
      "File \u001b[1;32m~\\AppData\\Roaming\\Python\\Python39\\site-packages\\selenium\\webdriver\\remote\\webdriver.py:1251\u001b[0m, in \u001b[0;36mWebDriver.find_element\u001b[1;34m(self, by, value)\u001b[0m\n\u001b[0;32m   1248\u001b[0m     by \u001b[38;5;241m=\u001b[39m By\u001b[38;5;241m.\u001b[39mCSS_SELECTOR\n\u001b[0;32m   1249\u001b[0m     value \u001b[38;5;241m=\u001b[39m \u001b[38;5;124m'\u001b[39m\u001b[38;5;124m[name=\u001b[39m\u001b[38;5;124m\"\u001b[39m\u001b[38;5;132;01m%s\u001b[39;00m\u001b[38;5;124m\"\u001b[39m\u001b[38;5;124m]\u001b[39m\u001b[38;5;124m'\u001b[39m \u001b[38;5;241m%\u001b[39m value\n\u001b[1;32m-> 1251\u001b[0m \u001b[38;5;28;01mreturn\u001b[39;00m \u001b[38;5;28;43mself\u001b[39;49m\u001b[38;5;241;43m.\u001b[39;49m\u001b[43mexecute\u001b[49m\u001b[43m(\u001b[49m\u001b[43mCommand\u001b[49m\u001b[38;5;241;43m.\u001b[39;49m\u001b[43mFIND_ELEMENT\u001b[49m\u001b[43m,\u001b[49m\u001b[43m \u001b[49m\u001b[43m{\u001b[49m\n\u001b[0;32m   1252\u001b[0m \u001b[43m    \u001b[49m\u001b[38;5;124;43m'\u001b[39;49m\u001b[38;5;124;43musing\u001b[39;49m\u001b[38;5;124;43m'\u001b[39;49m\u001b[43m:\u001b[49m\u001b[43m \u001b[49m\u001b[43mby\u001b[49m\u001b[43m,\u001b[49m\n\u001b[0;32m   1253\u001b[0m \u001b[43m    \u001b[49m\u001b[38;5;124;43m'\u001b[39;49m\u001b[38;5;124;43mvalue\u001b[39;49m\u001b[38;5;124;43m'\u001b[39;49m\u001b[43m:\u001b[49m\u001b[43m \u001b[49m\u001b[43mvalue\u001b[49m\u001b[43m}\u001b[49m\u001b[43m)\u001b[49m[\u001b[38;5;124m'\u001b[39m\u001b[38;5;124mvalue\u001b[39m\u001b[38;5;124m'\u001b[39m]\n",
      "File \u001b[1;32m~\\AppData\\Roaming\\Python\\Python39\\site-packages\\selenium\\webdriver\\remote\\webdriver.py:430\u001b[0m, in \u001b[0;36mWebDriver.execute\u001b[1;34m(self, driver_command, params)\u001b[0m\n\u001b[0;32m    428\u001b[0m response \u001b[38;5;241m=\u001b[39m \u001b[38;5;28mself\u001b[39m\u001b[38;5;241m.\u001b[39mcommand_executor\u001b[38;5;241m.\u001b[39mexecute(driver_command, params)\n\u001b[0;32m    429\u001b[0m \u001b[38;5;28;01mif\u001b[39;00m response:\n\u001b[1;32m--> 430\u001b[0m     \u001b[38;5;28;43mself\u001b[39;49m\u001b[38;5;241;43m.\u001b[39;49m\u001b[43merror_handler\u001b[49m\u001b[38;5;241;43m.\u001b[39;49m\u001b[43mcheck_response\u001b[49m\u001b[43m(\u001b[49m\u001b[43mresponse\u001b[49m\u001b[43m)\u001b[49m\n\u001b[0;32m    431\u001b[0m     response[\u001b[38;5;124m'\u001b[39m\u001b[38;5;124mvalue\u001b[39m\u001b[38;5;124m'\u001b[39m] \u001b[38;5;241m=\u001b[39m \u001b[38;5;28mself\u001b[39m\u001b[38;5;241m.\u001b[39m_unwrap_value(\n\u001b[0;32m    432\u001b[0m         response\u001b[38;5;241m.\u001b[39mget(\u001b[38;5;124m'\u001b[39m\u001b[38;5;124mvalue\u001b[39m\u001b[38;5;124m'\u001b[39m, \u001b[38;5;28;01mNone\u001b[39;00m))\n\u001b[0;32m    433\u001b[0m     \u001b[38;5;28;01mreturn\u001b[39;00m response\n",
      "File \u001b[1;32m~\\AppData\\Roaming\\Python\\Python39\\site-packages\\selenium\\webdriver\\remote\\errorhandler.py:247\u001b[0m, in \u001b[0;36mErrorHandler.check_response\u001b[1;34m(self, response)\u001b[0m\n\u001b[0;32m    245\u001b[0m         alert_text \u001b[38;5;241m=\u001b[39m value[\u001b[38;5;124m'\u001b[39m\u001b[38;5;124malert\u001b[39m\u001b[38;5;124m'\u001b[39m]\u001b[38;5;241m.\u001b[39mget(\u001b[38;5;124m'\u001b[39m\u001b[38;5;124mtext\u001b[39m\u001b[38;5;124m'\u001b[39m)\n\u001b[0;32m    246\u001b[0m     \u001b[38;5;28;01mraise\u001b[39;00m exception_class(message, screen, stacktrace, alert_text)  \u001b[38;5;66;03m# type: ignore[call-arg]  # mypy is not smart enough here\u001b[39;00m\n\u001b[1;32m--> 247\u001b[0m \u001b[38;5;28;01mraise\u001b[39;00m exception_class(message, screen, stacktrace)\n",
      "\u001b[1;31mNoSuchElementException\u001b[0m: Message: no such element: Unable to locate element: {\"method\":\"xpath\",\"selector\":\"//*[@id=\"content_cont\"]/div[2]/div/form/div[4]/table/tbody/tr[2]/td[2]/a\"}\n  (Session info: chrome=103.0.5060.114)\nStacktrace:\nBacktrace:\n\tOrdinal0 [0x005D6463+2188387]\n\tOrdinal0 [0x0056E461+1762401]\n\tOrdinal0 [0x00483D78+802168]\n\tOrdinal0 [0x004B1880+989312]\n\tOrdinal0 [0x004B1B1B+989979]\n\tOrdinal0 [0x004DE912+1173778]\n\tOrdinal0 [0x004CC824+1099812]\n\tOrdinal0 [0x004DCC22+1166370]\n\tOrdinal0 [0x004CC5F6+1099254]\n\tOrdinal0 [0x004A6BE0+945120]\n\tOrdinal0 [0x004A7AD6+948950]\n\tGetHandleVerifier [0x008771F2+2712546]\n\tGetHandleVerifier [0x0086886D+2652765]\n\tGetHandleVerifier [0x0066002A+520730]\n\tGetHandleVerifier [0x0065EE06+516086]\n\tOrdinal0 [0x0057468B+1787531]\n\tOrdinal0 [0x00578E88+1805960]\n\tOrdinal0 [0x00578F75+1806197]\n\tOrdinal0 [0x00581DF1+1842673]\n\tBaseThreadInitThunk [0x757CFA29+25]\n\tRtlGetAppContainerNamedObjectPath [0x77947A9E+286]\n\tRtlGetAppContainerNamedObjectPath [0x77947A6E+238]\n"
     ]
    }
   ],
   "source": [
    "#Step 8. 총 검색 건수를 보여주고 수집할 건수 입력받기\n",
    "import math\n",
    "collect_cnt = int(input('이 중에서 몇 건을 수집하시겠습니까?: '))\n",
    "collect_page_cnt = math.ceil(collect_cnt / 10)\n",
    "print('%s 건의 데이터를 수집하기 위해 %s 페이지의 게시물을 조회합니다.' %(collect_cnt,collect_page_cnt))\n",
    "print('=' *80)\n",
    "\n",
    "file_name = input('결과를 저장할 폴더명을 쓰세요(예: c:\\\\py_temp\\\\: ')\n",
    "\n",
    "\n",
    "from bs4 import BeautifulSoup\n",
    "s_time = time.time( )\n",
    "\n",
    "no2 = [ ]        #번호 저장\n",
    "title2=[ ]       # 게시글 제목 컬럼      \n",
    "date2=[ ]        # 게시글 날짜 컬럼\n",
    "contents2=[]     # 초록내용\n",
    "no = 1\n",
    "\n",
    "for i in range(1,collect_cnt+1):\n",
    "    xpath = '//*[@id=\"content_cont\"]/div[2]/div/form/div[4]/table/tbody/tr['+str(i+1)+']/td[2]/a'\n",
    "    driver.find_element(By.XPATH, xpath).click()\n",
    "    html_1 = driver.page_source\n",
    "    soup_1 = BeautifulSoup(html_1, 'html.parser')\n",
    "    content_1 = soup_1.find('div','form_table').find_all('table')\n",
    "    print(\"---------------------------------------------------\")\n",
    "    for b in content_1 :    \n",
    "        #1. 논문제목 있을 경우만\n",
    "        try :\n",
    "            title = b.find('table','table_style').find_all('td')\n",
    "            title=title[1].get_text()\n",
    "            print(title+\"-------------------------------------------------\")\n",
    "        except :\n",
    "            continue\n",
    "        else :\n",
    "            f = open(ft_name, 'a' , encoding=\"UTF-8\")\n",
    "            print('1.번호:',no)\n",
    "            no2.append(no)\n",
    "            f.write('\\n'+'0.번호:' + str(no))\n",
    "\n",
    "            print('1.제목:',title)\n",
    "            title2.append(title)\n",
    "            f.write('\\n' + '1.논문제목:' + title)\n",
    "            \n",
    "            date = b.find('td').get_text()\n",
    "            print('2.공개일:',writer)\n",
    "            date2.append(date)\n",
    "            f.write('\\n' + '2.공개일:' + date)\n",
    "\n",
    "            content = b.find('div','table_inner_desc').find('','').get_text()\n",
    "            print('3.상담내역:' , content)\n",
    "            contents2.append(org)\n",
    "            f.write('\\n' + '3.상담내역:' + contents)\n",
    "                        \n",
    "            f.close( )\n",
    "            \n",
    "            drive.back()\n",
    "            \n",
    "          #news_no += 1\n",
    "            no += 1\n",
    "\n",
    "            if no > collect_cnt :\n",
    "                 break\n",
    "\n",
    "        time.sleep(1)        # 페이지 변경 전 1초 대기 \n",
    "\n",
    "        i += 1\n",
    "\n",
    "        if no >= collect_cnt :\n",
    "             break\n",
    "\n",
    "            \n",
    "try :\n",
    "    driver.find_element(By.LINK_TEXT,'%s' %x).click() # 다음 페이지번호 클릭\n",
    "except :\n",
    "    driver.find_element(By.LINK_TEXT,'다음 페이지로').click()\n",
    "    \n",
    "    \n",
    "#     for i in content_1 :\n",
    "#     print(i.get_text().replace(\"\\n\",\"\"))\n",
    "\n",
    "\n",
    "print('------------------------------------------------------------------------')"
   ]
  },
  {
   "cell_type": "code",
   "execution_count": 108,
   "id": "4ec429bb",
   "metadata": {},
   "outputs": [
    {
     "data": {
      "text/plain": [
       "'//*[@id=\"content_cont\"]/div[2]/div/form/div[4]/table/tbody/tr[2]/td[2]/a'"
      ]
     },
     "execution_count": 108,
     "metadata": {},
     "output_type": "execute_result"
    }
   ],
   "source": [
    "xpath"
   ]
  },
  {
   "cell_type": "code",
   "execution_count": 47,
   "id": "6aad2b30",
   "metadata": {},
   "outputs": [
    {
     "name": "stdout",
     "output_type": "stream",
     "text": [
      "이 중에서 몇 건을 수집하시겠습니까?: 25\n",
      "25 건의 데이터를 수집하기 위해 3 페이지의 게시물을 조회합니다.\n",
      "================================================================================\n",
      "결과를 저장할 폴더명을 쓰세요(예: c:\\py_temp\\: 123\n"
     ]
    },
    {
     "ename": "NoSuchElementException",
     "evalue": "Message: no such element: Unable to locate element: {\"method\":\"xpath\",\"selector\":\"//*[@id=\"content_cont\"]/div[2]/div/form/div[4]/table/tbody/tr[3]/td[2]/a\"}\n  (Session info: chrome=103.0.5060.114)\nStacktrace:\nBacktrace:\n\tOrdinal0 [0x005D6463+2188387]\n\tOrdinal0 [0x0056E461+1762401]\n\tOrdinal0 [0x00483D78+802168]\n\tOrdinal0 [0x004B1880+989312]\n\tOrdinal0 [0x004B1B1B+989979]\n\tOrdinal0 [0x004DE912+1173778]\n\tOrdinal0 [0x004CC824+1099812]\n\tOrdinal0 [0x004DCC22+1166370]\n\tOrdinal0 [0x004CC5F6+1099254]\n\tOrdinal0 [0x004A6BE0+945120]\n\tOrdinal0 [0x004A7AD6+948950]\n\tGetHandleVerifier [0x008771F2+2712546]\n\tGetHandleVerifier [0x0086886D+2652765]\n\tGetHandleVerifier [0x0066002A+520730]\n\tGetHandleVerifier [0x0065EE06+516086]\n\tOrdinal0 [0x0057468B+1787531]\n\tOrdinal0 [0x00578E88+1805960]\n\tOrdinal0 [0x00578F75+1806197]\n\tOrdinal0 [0x00581DF1+1842673]\n\tBaseThreadInitThunk [0x757CFA29+25]\n\tRtlGetAppContainerNamedObjectPath [0x77947A9E+286]\n\tRtlGetAppContainerNamedObjectPath [0x77947A6E+238]\n",
     "output_type": "error",
     "traceback": [
      "\u001b[1;31m---------------------------------------------------------------------------\u001b[0m",
      "\u001b[1;31mNoSuchElementException\u001b[0m                    Traceback (most recent call last)",
      "Input \u001b[1;32mIn [47]\u001b[0m, in \u001b[0;36m<cell line: 20>\u001b[1;34m()\u001b[0m\n\u001b[0;32m     20\u001b[0m \u001b[38;5;28;01mfor\u001b[39;00m i \u001b[38;5;129;01min\u001b[39;00m \u001b[38;5;28mrange\u001b[39m(\u001b[38;5;241m1\u001b[39m,collect_cnt\u001b[38;5;241m+\u001b[39m\u001b[38;5;241m1\u001b[39m):\n\u001b[0;32m     21\u001b[0m     xpath \u001b[38;5;241m=\u001b[39m \u001b[38;5;124m'\u001b[39m\u001b[38;5;124m//*[@id=\u001b[39m\u001b[38;5;124m\"\u001b[39m\u001b[38;5;124mcontent_cont\u001b[39m\u001b[38;5;124m\"\u001b[39m\u001b[38;5;124m]/div[2]/div/form/div[4]/table/tbody/tr[\u001b[39m\u001b[38;5;124m'\u001b[39m\u001b[38;5;241m+\u001b[39m\u001b[38;5;28mstr\u001b[39m(i\u001b[38;5;241m+\u001b[39m\u001b[38;5;241m1\u001b[39m)\u001b[38;5;241m+\u001b[39m\u001b[38;5;124m'\u001b[39m\u001b[38;5;124m]/td[2]/a\u001b[39m\u001b[38;5;124m'\u001b[39m\n\u001b[1;32m---> 22\u001b[0m     \u001b[43mdriver\u001b[49m\u001b[38;5;241;43m.\u001b[39;49m\u001b[43mfind_element\u001b[49m\u001b[43m(\u001b[49m\u001b[43mBy\u001b[49m\u001b[38;5;241;43m.\u001b[39;49m\u001b[43mXPATH\u001b[49m\u001b[43m,\u001b[49m\u001b[43m \u001b[49m\u001b[43mxpath\u001b[49m\u001b[43m)\u001b[49m\u001b[38;5;241m.\u001b[39mclick()\n\u001b[0;32m     23\u001b[0m     html_1 \u001b[38;5;241m=\u001b[39m driver\u001b[38;5;241m.\u001b[39mpage_source\n\u001b[0;32m     24\u001b[0m     soup_1 \u001b[38;5;241m=\u001b[39m BeautifulSoup(html_1, \u001b[38;5;124m'\u001b[39m\u001b[38;5;124mhtml.parser\u001b[39m\u001b[38;5;124m'\u001b[39m)\n",
      "File \u001b[1;32m~\\AppData\\Roaming\\Python\\Python39\\site-packages\\selenium\\webdriver\\remote\\webdriver.py:1251\u001b[0m, in \u001b[0;36mWebDriver.find_element\u001b[1;34m(self, by, value)\u001b[0m\n\u001b[0;32m   1248\u001b[0m     by \u001b[38;5;241m=\u001b[39m By\u001b[38;5;241m.\u001b[39mCSS_SELECTOR\n\u001b[0;32m   1249\u001b[0m     value \u001b[38;5;241m=\u001b[39m \u001b[38;5;124m'\u001b[39m\u001b[38;5;124m[name=\u001b[39m\u001b[38;5;124m\"\u001b[39m\u001b[38;5;132;01m%s\u001b[39;00m\u001b[38;5;124m\"\u001b[39m\u001b[38;5;124m]\u001b[39m\u001b[38;5;124m'\u001b[39m \u001b[38;5;241m%\u001b[39m value\n\u001b[1;32m-> 1251\u001b[0m \u001b[38;5;28;01mreturn\u001b[39;00m \u001b[38;5;28;43mself\u001b[39;49m\u001b[38;5;241;43m.\u001b[39;49m\u001b[43mexecute\u001b[49m\u001b[43m(\u001b[49m\u001b[43mCommand\u001b[49m\u001b[38;5;241;43m.\u001b[39;49m\u001b[43mFIND_ELEMENT\u001b[49m\u001b[43m,\u001b[49m\u001b[43m \u001b[49m\u001b[43m{\u001b[49m\n\u001b[0;32m   1252\u001b[0m \u001b[43m    \u001b[49m\u001b[38;5;124;43m'\u001b[39;49m\u001b[38;5;124;43musing\u001b[39;49m\u001b[38;5;124;43m'\u001b[39;49m\u001b[43m:\u001b[49m\u001b[43m \u001b[49m\u001b[43mby\u001b[49m\u001b[43m,\u001b[49m\n\u001b[0;32m   1253\u001b[0m \u001b[43m    \u001b[49m\u001b[38;5;124;43m'\u001b[39;49m\u001b[38;5;124;43mvalue\u001b[39;49m\u001b[38;5;124;43m'\u001b[39;49m\u001b[43m:\u001b[49m\u001b[43m \u001b[49m\u001b[43mvalue\u001b[49m\u001b[43m}\u001b[49m\u001b[43m)\u001b[49m[\u001b[38;5;124m'\u001b[39m\u001b[38;5;124mvalue\u001b[39m\u001b[38;5;124m'\u001b[39m]\n",
      "File \u001b[1;32m~\\AppData\\Roaming\\Python\\Python39\\site-packages\\selenium\\webdriver\\remote\\webdriver.py:430\u001b[0m, in \u001b[0;36mWebDriver.execute\u001b[1;34m(self, driver_command, params)\u001b[0m\n\u001b[0;32m    428\u001b[0m response \u001b[38;5;241m=\u001b[39m \u001b[38;5;28mself\u001b[39m\u001b[38;5;241m.\u001b[39mcommand_executor\u001b[38;5;241m.\u001b[39mexecute(driver_command, params)\n\u001b[0;32m    429\u001b[0m \u001b[38;5;28;01mif\u001b[39;00m response:\n\u001b[1;32m--> 430\u001b[0m     \u001b[38;5;28;43mself\u001b[39;49m\u001b[38;5;241;43m.\u001b[39;49m\u001b[43merror_handler\u001b[49m\u001b[38;5;241;43m.\u001b[39;49m\u001b[43mcheck_response\u001b[49m\u001b[43m(\u001b[49m\u001b[43mresponse\u001b[49m\u001b[43m)\u001b[49m\n\u001b[0;32m    431\u001b[0m     response[\u001b[38;5;124m'\u001b[39m\u001b[38;5;124mvalue\u001b[39m\u001b[38;5;124m'\u001b[39m] \u001b[38;5;241m=\u001b[39m \u001b[38;5;28mself\u001b[39m\u001b[38;5;241m.\u001b[39m_unwrap_value(\n\u001b[0;32m    432\u001b[0m         response\u001b[38;5;241m.\u001b[39mget(\u001b[38;5;124m'\u001b[39m\u001b[38;5;124mvalue\u001b[39m\u001b[38;5;124m'\u001b[39m, \u001b[38;5;28;01mNone\u001b[39;00m))\n\u001b[0;32m    433\u001b[0m     \u001b[38;5;28;01mreturn\u001b[39;00m response\n",
      "File \u001b[1;32m~\\AppData\\Roaming\\Python\\Python39\\site-packages\\selenium\\webdriver\\remote\\errorhandler.py:247\u001b[0m, in \u001b[0;36mErrorHandler.check_response\u001b[1;34m(self, response)\u001b[0m\n\u001b[0;32m    245\u001b[0m         alert_text \u001b[38;5;241m=\u001b[39m value[\u001b[38;5;124m'\u001b[39m\u001b[38;5;124malert\u001b[39m\u001b[38;5;124m'\u001b[39m]\u001b[38;5;241m.\u001b[39mget(\u001b[38;5;124m'\u001b[39m\u001b[38;5;124mtext\u001b[39m\u001b[38;5;124m'\u001b[39m)\n\u001b[0;32m    246\u001b[0m     \u001b[38;5;28;01mraise\u001b[39;00m exception_class(message, screen, stacktrace, alert_text)  \u001b[38;5;66;03m# type: ignore[call-arg]  # mypy is not smart enough here\u001b[39;00m\n\u001b[1;32m--> 247\u001b[0m \u001b[38;5;28;01mraise\u001b[39;00m exception_class(message, screen, stacktrace)\n",
      "\u001b[1;31mNoSuchElementException\u001b[0m: Message: no such element: Unable to locate element: {\"method\":\"xpath\",\"selector\":\"//*[@id=\"content_cont\"]/div[2]/div/form/div[4]/table/tbody/tr[3]/td[2]/a\"}\n  (Session info: chrome=103.0.5060.114)\nStacktrace:\nBacktrace:\n\tOrdinal0 [0x005D6463+2188387]\n\tOrdinal0 [0x0056E461+1762401]\n\tOrdinal0 [0x00483D78+802168]\n\tOrdinal0 [0x004B1880+989312]\n\tOrdinal0 [0x004B1B1B+989979]\n\tOrdinal0 [0x004DE912+1173778]\n\tOrdinal0 [0x004CC824+1099812]\n\tOrdinal0 [0x004DCC22+1166370]\n\tOrdinal0 [0x004CC5F6+1099254]\n\tOrdinal0 [0x004A6BE0+945120]\n\tOrdinal0 [0x004A7AD6+948950]\n\tGetHandleVerifier [0x008771F2+2712546]\n\tGetHandleVerifier [0x0086886D+2652765]\n\tGetHandleVerifier [0x0066002A+520730]\n\tGetHandleVerifier [0x0065EE06+516086]\n\tOrdinal0 [0x0057468B+1787531]\n\tOrdinal0 [0x00578E88+1805960]\n\tOrdinal0 [0x00578F75+1806197]\n\tOrdinal0 [0x00581DF1+1842673]\n\tBaseThreadInitThunk [0x757CFA29+25]\n\tRtlGetAppContainerNamedObjectPath [0x77947A9E+286]\n\tRtlGetAppContainerNamedObjectPath [0x77947A6E+238]\n"
     ]
    }
   ],
   "source": [
    "# # 장르 선택하기\n",
    "# if choice == '1' :\n",
    "#     driver.find_element(By.LINK_TEXT,'학위논문').click()\n",
    "# elif choice =='2':\n",
    "#     driver.find_element(By.LINK_TEXT,'국내학술논문').click()\n",
    "# elif choice =='3':\n",
    "#     driver.find_element(By.LINK_TEXT,'해외학술논문').click()\n",
    "# elif choice =='4':\n",
    "#     driver.find_element(By.LINK_TEXT,'학술지').click()\n",
    "# elif choice =='5':\n",
    "#     driver.find_element(By.LINK_TEXT,'단행본').click()\n",
    "# elif choice =='6':\n",
    "#     driver.find_element(By.LINK_TEXT,'공개강의').click()\n",
    "# elif choice =='7':\n",
    "#     driver.find_element(By.LINK_TEXT,'연구보고서').click()\n",
    "\n",
    "# # Step 5. 크롤링 건수 추출 후 건수 입력받기\n",
    "# time.sleep(0.2)\n",
    "# html_1 = driver.page_source\n",
    "# soup_1 = BeautifulSoup(html_1, 'html.parser')\n",
    "\n",
    "# if choice =='1' :\n",
    "#     total_1 = soup_1.find('div','searchBox pd')\n",
    "# elif choice =='2' :\n",
    "#     total_1 = soup_1.find('div','searchBox')\n",
    "# elif choice =='3' :\n",
    "#     total_1 = soup_1.find('div','searchBox')\n",
    "# elif choice =='4' :\n",
    "#     total_1 = soup_1.find('div','searchBox pd')\n",
    "# elif choice =='5' :\n",
    "#     total_1 = soup_1.find('div','searchBox pd')\n",
    "# elif choice =='6' :\n",
    "#     total_1 = soup_1.find('div','searchBox pd')\n",
    "# elif choice =='7' :\n",
    "#     total_1 = soup_1.find('div','searchBox pd')\n",
    "\n",
    "# total_2 = total_1.select('dl > dd > span')\n",
    "# total_3 = total_2[0].find('span','num').get_text()\n",
    "# total = total_3.replace(\",\",\"\")\n",
    "\n",
    "# time.sleep(10)\n",
    "\n",
    "# #장르 이름 지정하기\n",
    "# if choice == '1' :\n",
    "#     j_name='학위논문'\n",
    "# elif choice =='2':\n",
    "#     j_name='국내학술논문'\n",
    "# elif choice =='3':\n",
    "#     j_name='해외학술논문'\n",
    "# elif choice =='4':\n",
    "#     j_name='학술지'\n",
    "# elif choice =='5':\n",
    "#     j_name='단행본'\n",
    "# elif choice =='6':\n",
    "#     j_name='공개강의'\n",
    "# elif choice =='7':\n",
    "#     j_name='연구보고서'\n",
    "\n",
    "# if total =='0' :\n",
    "#     print(\"%s 키워드로 %s 부분에서 검색된 자료의 건수는 총 0건 입니다\" %(query_txt,j_name) )\n",
    "#     print(\"검색된 결과 건수가 0건이므로 수집할 데이터가 없어서 종료합니다\")\n",
    "# else :\n",
    "#     print(\"%s 키워드로 %s 부분에서 검색된 자료의 건수는 총 %s 건 입니다\"%(query_txt,j_name,total))\n",
    "#     cnt = int(input('이 중에서 크롤링 할 건수는 몇건입니까?: '))\n",
    "#     page_cnt = math.ceil(cnt / 10) \n",
    "\n",
    "#     # 국내학술논문 카테고리의 정보 수집하기\n",
    "#     if choice =='2' and cnt > 0:\n",
    "#         print(\"%s 키워드로 국내학술논문을 검색하여 총 %s 건 중 %s건의 정보를 수집하겠습니다\" %(query_txt,total,cnt))\n",
    "\n",
    "#         no2=[]           # 게시글 번호 컬럼\n",
    "#         title2=[ ]       # 게시글 제목 컬럼\n",
    "#         author2=[]       # 논문 저자 컬럼\n",
    "#         company2=[ ]     # 소속 기관 컬럼\n",
    "#         date2=[ ]        # 게시글 날짜 컬럼\n",
    "#         suksa2=[ ]       # 국내석사 컬럼\n",
    "#         contents2=[]     # 초록내용\n",
    "#         full_url2=[]     # 논문 원본 URL\n",
    "\n",
    "#         no = 1           # 게시글 번호 초기값\n",
    "#         k = 0   # 페이지 번호 넘기기 위해 사용하는 변수\n",
    "#         #xpath_no = 3\n",
    "\n",
    "#         for x in range(1,page_cnt+1) :\n",
    "#             print(\"\\n\")\n",
    "#             print(\"%s 페이지 내용 수집 시작합니다 =======================\" %x)\n",
    "\n",
    "#             html = driver.page_source\n",
    "#             soup = BeautifulSoup(html, 'html.parser')\n",
    "#             content_list = soup.find('div','srchResultListW').find_all('li')\n",
    "\n",
    "#             for i in content_list:\n",
    "\n",
    "#                 # 2. 게시글 제목\n",
    "#                 try:\n",
    "#                     title=i.find('div','cont').find('p','title').get_text().strip()\n",
    "#                 except :\n",
    "#                     continue \n",
    "#                 else :\n",
    "\n",
    "#                     # 1.게시글 번호\n",
    "#                     print(\"\\n\")\n",
    "#                     print(\"%s 번째 정보를 추출하고 있습니다============\" %no)\n",
    "#                     no2.append(no)\n",
    "#                     print(\"1.번호 : %s\" %no)\n",
    "\n",
    "#                     title2.append(title.strip())\n",
    "#                     print(\"2.제목 : %s\" %title.strip())\n",
    "\n",
    "#                     # 3. 작성자\n",
    "#                     try :\n",
    "#                         author=i.find('p','etc').find('span','writer').get_text().strip()\n",
    "#                     except :\n",
    "#                         author = '작성자가 없습니다'\n",
    "#                         print(\"3.작성자 : %s\" %author.strip())\n",
    "#                         author2.append(author.strip())\n",
    "#                     else :\n",
    "#                         author2.append(author.strip())\n",
    "#                         print(\"3.작성자 : %s\" %author.strip())\n",
    "\n",
    "#                     # 4. 소속기관\n",
    "#                     try :\n",
    "#                         company=i.find('p','etc').find('span','assigned').get_text().strip()\n",
    "#                     except :\n",
    "#                         company='소속 기관이 없습니다'\n",
    "#                         company2.append(company.strip())\n",
    "#                         print(\"4.소속기관 : %s\" %company.strip())\n",
    "#                     else :\n",
    "#                         company2.append(company.strip())\n",
    "#                         print(\"4.소속기관 : %s\" %company.strip())\n",
    "\n",
    "#                     # 5. 발표날짜\n",
    "#                     try :\n",
    "#                         date_1 =i.find('p','etc').find_all('span')\n",
    "#                         date_2 = date_1[2].get_text().strip()\n",
    "#                     except :\n",
    "#                         date_2='발표날짜가 없습니다'\n",
    "#                         date2.append(date_2)\n",
    "#                         print(\"5.발표년도 : %s\" %date_2)\n",
    "#                     else :\n",
    "#                         date2.append(date_2)\n",
    "#                         print(\"5.발표년도 : %s\" %date_2)\n",
    "\n",
    "#                     # 6.실린 논문집\n",
    "#                     try :\n",
    "#                         suksa_1 =i.find('p','etc').find_all('span')\n",
    "#                         suksa_2 = suksa_1[3].get_text().strip()\n",
    "#                     except :\n",
    "#                         suksa_2='논문집이 없습니다'\n",
    "#                         suksa2.append(suksa_2)\n",
    "#                         print(\"6.논문집/자료집 : %s\" %suksa_2)\n",
    "#                     else :\n",
    "#                         suksa2.append(suksa_2)\n",
    "#                         print(\"6.논문집/자료집 : %s\" %suksa_2)\n",
    "\n",
    "#                     # 7.논문 url 주소       \n",
    "#                     url_1 = i.find('p','title').find('a')['href']\n",
    "#                     full_url = 'http://www.riss.kr'+url_1\n",
    "\n",
    "#                     full_url2.append(full_url)\n",
    "#                     print('7.논문 URL 주소:' , full_url)\n",
    "\n",
    "#                     time.sleep(2)\n",
    "\n",
    "#                     #news_no += 1\n",
    "#                     no += 1\n",
    "\n",
    "#                     if no > cnt :\n",
    "#                         break\n",
    "\n",
    "#             time.sleep(1)        # 페이지 변경 전 1초 대기 \n",
    "\n",
    "#             x += 1\n",
    "\n",
    "#             if no >= cnt :\n",
    "#                 break\n",
    "            \n",
    "#         try :\n",
    "#             driver.find_element(By.LINK_TEXT,'%s' %x).click() # 다음 페이지번호 클릭\n",
    "#         except :\n",
    "#             driver.find_element(By.LINK_TEXT,'다음 페이지로').click()\n",
    "\n",
    "# # Step 7. 출력 결과 저장하기\n",
    "# df = pd.DataFrame()\n",
    "# df['번호']=no2\n",
    "# df['제목']=pd.Series(title2)\n",
    "# df['저자']=pd.Series(author2)\n",
    "# df['소속(발행)기관']=pd.Series(company2)\n",
    "# df['날짜']=pd.Series(date2)\n",
    "# df['학위(논문일경우)']=pd.Series(suksa2)\n",
    "# df['초록(논문일경우)']=pd.Series(contents2)\n",
    "# df['자료URL주소']=pd.Series(full_url2)\n",
    "\n",
    "# # xls / csv 형태로 저장하기\n",
    "# df.to_excel(fx_name,index=False, encoding=\"utf-8\",engine='openpyxl')\n",
    "# df.to_csv(fc_name,index=False, encoding=\"utf-8-sig\")\n",
    "\n",
    "# e_time = time.time( )     \n",
    "# t_time = e_time - s_time\n",
    "\n",
    "# print(\"\\n\") \n",
    "# print(\"=\" *80)\n",
    "# print(\"크롤링을 요청한 총 %s 건 중에서 %s 건의 데이터를 수집 완료 했습니다\" %(cnt,no-1))\n",
    "# print(\"총 소요시간은 %s 초 입니다 \" %round(t_time,1))\n",
    "# print(\"=\" *80)\n",
    "\n",
    "# driver.close( )"
   ]
  },
  {
   "cell_type": "code",
   "execution_count": 41,
   "id": "8e3f4b92",
   "metadata": {},
   "outputs": [
    {
     "data": {
      "text/plain": [
       "'//*[@id=\"content_cont\"]/div[2]/div/form/div[4]/table/tbody/tr[2]/td[2]/a'"
      ]
     },
     "execution_count": 41,
     "metadata": {},
     "output_type": "execute_result"
    }
   ],
   "source": [
    "xpath"
   ]
  },
  {
   "cell_type": "code",
   "execution_count": 48,
   "id": "e506c363",
   "metadata": {},
   "outputs": [
    {
     "data": {
      "text/plain": [
       "'\\n\\nA. 답변내용\\n 000님 안녕하십니까. 먼저, 임시주차장 운영으로 인해 공원이용에 불편을 드린 점, 송구하다는 말씀을 드립니다. 전세계적인 펜데믹의 영향으로 그간 운영하지 못했던 한강공원 야외수영장이 지난 2022.6.24. 개장했습니다. 이에, 우리 본부에서는 수영장 및 한강공원 이용 시민분들의 주차편의 제공을 위해 2022.6.24. ~ 8.21.까지 주말 및 공휴일에 한해 서강대교 남단 하부에 위치한 인라인 스케이트장을 임시주차장으로 운영합니다. 그러나, 임시주차장 운영과 관련, 사전에 해당 시설 이용자 분들께 충분한 사전고지를 해드리지 못했던 점, 다시 한번 대단히 송구하다는 말씀을 드립니다. 수영장과 인접한 여의3주차장의 경우 주말 및 공휴일, 오전부터 매우 혼잡한 주차장입니다. 여기에 더해 수영장이 개장되면 오전부터 주차장 만차로 인한 주차대기 차량으로 인해 주차장 내부는 물론, 주변 도로까지 심각한 정체현상이 발생할 것이 당연히 예측되는 상황입니다. 그럼에도 불구하고 마지막 수영장 운영연도였던 2019년은 물론이거니와 그 이전연도부터 지속적으로 운영하였던 임시주차장을 특별한 사유없이 운영하지 않는 것은 더 큰 불편민원 발생요인이 될 것이 명확한 상황입니다. 이 점, 넓으신 아량으로 이해해주시기 바랍니다.우리 한강공원 이용환경 개선을 위한 이00님의 아낌없는 조언과 따가운 질책의 말씀에 감사와 사과의 말씀을 드리며, 기타 공원주차장 이용관련 문의사항은 공원시설과(김병수 주무관, 02-3780-0841)연락주시면 성심껏 답변드리겠습니다. 감사합니다.  \\n                                        [검토부서] 서울특별시 한강사업본부 공원부 공원시설과 [담당자] 김병수 (☎ 02-3780-0841)  \\n                                    \\n\\n'"
      ]
     },
     "execution_count": 48,
     "metadata": {},
     "output_type": "execute_result"
    }
   ],
   "source": [
    "title"
   ]
  },
  {
   "cell_type": "code",
   "execution_count": 50,
   "id": "48cd2773",
   "metadata": {},
   "outputs": [
    {
     "ename": "NameError",
     "evalue": "name 'date' is not defined",
     "output_type": "error",
     "traceback": [
      "\u001b[1;31m---------------------------------------------------------------------------\u001b[0m",
      "\u001b[1;31mNameError\u001b[0m                                 Traceback (most recent call last)",
      "Input \u001b[1;32mIn [50]\u001b[0m, in \u001b[0;36m<cell line: 1>\u001b[1;34m()\u001b[0m\n\u001b[1;32m----> 1\u001b[0m \u001b[43mdate\u001b[49m\n",
      "\u001b[1;31mNameError\u001b[0m: name 'date' is not defined"
     ]
    }
   ],
   "source": [
    "date"
   ]
  },
  {
   "cell_type": "code",
   "execution_count": 55,
   "id": "992b9337",
   "metadata": {},
   "outputs": [
    {
     "data": {
      "text/plain": [
       "'\\n\\nA. 답변내용\\n 000님 안녕하십니까. 먼저, 임시주차장 운영으로 인해 공원이용에 불편을 드린 점, 송구하다는 말씀을 드립니다. 전세계적인 펜데믹의 영향으로 그간 운영하지 못했던 한강공원 야외수영장이 지난 2022.6.24. 개장했습니다. 이에, 우리 본부에서는 수영장 및 한강공원 이용 시민분들의 주차편의 제공을 위해 2022.6.24. ~ 8.21.까지 주말 및 공휴일에 한해 서강대교 남단 하부에 위치한 인라인 스케이트장을 임시주차장으로 운영합니다. 그러나, 임시주차장 운영과 관련, 사전에 해당 시설 이용자 분들께 충분한 사전고지를 해드리지 못했던 점, 다시 한번 대단히 송구하다는 말씀을 드립니다. 수영장과 인접한 여의3주차장의 경우 주말 및 공휴일, 오전부터 매우 혼잡한 주차장입니다. 여기에 더해 수영장이 개장되면 오전부터 주차장 만차로 인한 주차대기 차량으로 인해 주차장 내부는 물론, 주변 도로까지 심각한 정체현상이 발생할 것이 당연히 예측되는 상황입니다. 그럼에도 불구하고 마지막 수영장 운영연도였던 2019년은 물론이거니와 그 이전연도부터 지속적으로 운영하였던 임시주차장을 특별한 사유없이 운영하지 않는 것은 더 큰 불편민원 발생요인이 될 것이 명확한 상황입니다. 이 점, 넓으신 아량으로 이해해주시기 바랍니다.우리 한강공원 이용환경 개선을 위한 이00님의 아낌없는 조언과 따가운 질책의 말씀에 감사와 사과의 말씀을 드리며, 기타 공원주차장 이용관련 문의사항은 공원시설과(김병수 주무관, 02-3780-0841)연락주시면 성심껏 답변드리겠습니다. 감사합니다.  \\n                                        [검토부서] 서울특별시 한강사업본부 공원부 공원시설과 [담당자] 김병수 (☎ 02-3780-0841)  \\n                                    \\n\\n'"
      ]
     },
     "execution_count": 55,
     "metadata": {},
     "output_type": "execute_result"
    }
   ],
   "source": [
    "title"
   ]
  },
  {
   "cell_type": "code",
   "execution_count": null,
   "id": "5d4729b8",
   "metadata": {},
   "outputs": [],
   "source": []
  }
 ],
 "metadata": {
  "kernelspec": {
   "display_name": "Python 3 (ipykernel)",
   "language": "python",
   "name": "python3"
  },
  "language_info": {
   "codemirror_mode": {
    "name": "ipython",
    "version": 3
   },
   "file_extension": ".py",
   "mimetype": "text/x-python",
   "name": "python",
   "nbconvert_exporter": "python",
   "pygments_lexer": "ipython3",
   "version": "3.9.12"
  }
 },
 "nbformat": 4,
 "nbformat_minor": 5
}
