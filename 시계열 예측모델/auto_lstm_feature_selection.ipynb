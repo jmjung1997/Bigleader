{
 "cells": [
  {
   "cell_type": "markdown",
   "id": "ed3d0508",
   "metadata": {},
   "source": [
    "### 라이브러리 import"
   ]
  },
  {
   "cell_type": "code",
   "execution_count": null,
   "id": "7cb5c699",
   "metadata": {},
   "outputs": [],
   "source": [
    "import tensorflow as tf\n",
    "import numpy as np\n",
    "import random\n",
    "import os\n",
    "import pandas as pd\n",
    "from tensorflow.keras.layers import LSTM, Dense, Flatten, Dropout, Dropout\n",
    "from tensorflow.keras.models import Sequential\n",
    "import seaborn as sns\n",
    "import matplotlib.pyplot as plt\n",
    "from sklearn.preprocessing import MinMaxScaler\n",
    "from sklearn.metrics import mean_absolute_error\n",
    "from tensorflow.keras.backend import clear_session\n",
    "import gc\n",
    "from tqdm import tqdm"
   ]
  },
  {
   "cell_type": "markdown",
   "id": "ec9e9e5f",
   "metadata": {},
   "source": [
    "### 한글 폰트"
   ]
  },
  {
   "cell_type": "code",
   "execution_count": null,
   "id": "81b5a09c",
   "metadata": {},
   "outputs": [],
   "source": [
    "from matplotlib import font_manager, rc\n",
    "font_path = \"C:/Windows/Fonts/gulim.ttc\"\n",
    "font = font_manager.FontProperties(fname=font_path).get_name()\n",
    "rc('font', family=font)"
   ]
  },
  {
   "cell_type": "markdown",
   "id": "9ceb4294",
   "metadata": {},
   "source": [
    "### seed 고정"
   ]
  },
  {
   "cell_type": "code",
   "execution_count": null,
   "id": "cdc8cc9a",
   "metadata": {},
   "outputs": [],
   "source": [
    "def seed_everything(seed: int = 42):\n",
    "    random.seed(seed)\n",
    "    np.random.seed(seed)\n",
    "    os.environ[\"PYTHONHASHSEED\"] = str(seed)\n",
    "    tf.random.set_seed(seed)"
   ]
  },
  {
   "cell_type": "code",
   "execution_count": null,
   "id": "fd2b091e",
   "metadata": {},
   "outputs": [],
   "source": [
    "seed_everything(42)"
   ]
  },
  {
   "cell_type": "markdown",
   "id": "393da1a6",
   "metadata": {},
   "source": [
    "### Pandas setting 변경"
   ]
  },
  {
   "cell_type": "code",
   "execution_count": null,
   "id": "c8e35a61",
   "metadata": {},
   "outputs": [],
   "source": [
    "pd.set_option('display.max_columns', None)"
   ]
  },
  {
   "cell_type": "markdown",
   "id": "e9a4440b",
   "metadata": {},
   "source": [
    "### 데이터 불러오기"
   ]
  },
  {
   "cell_type": "code",
   "execution_count": null,
   "id": "b3a3fbad",
   "metadata": {},
   "outputs": [],
   "source": [
    "df = pd.read_excel('./data/dataset.xlsx')"
   ]
  },
  {
   "cell_type": "code",
   "execution_count": null,
   "id": "452541df",
   "metadata": {},
   "outputs": [],
   "source": [
    "df.head()"
   ]
  },
  {
   "cell_type": "code",
   "execution_count": null,
   "id": "e55417b4",
   "metadata": {},
   "outputs": [],
   "source": [
    "df = df[['VAR0', 'VAR1', 'VAR2', 'VAR3', 'VAR4', 'VAR5', \n",
    "         'VAR6', 'VAR8', 'VAR9', 'VAR11', 'VAR13',\n",
    "       'VAR17', 'VAR18', 'VAR24', 'VAR25', 'VAR26', \n",
    "         'VAR16']]"
   ]
  },
  {
   "cell_type": "code",
   "execution_count": null,
   "id": "ffa2e99c",
   "metadata": {},
   "outputs": [],
   "source": [
    "df.drop('VAR7', axis=1, inplace=True)"
   ]
  },
  {
   "cell_type": "code",
   "execution_count": null,
   "id": "04c786a3",
   "metadata": {},
   "outputs": [],
   "source": [
    "df.columns"
   ]
  },
  {
   "cell_type": "code",
   "execution_count": null,
   "id": "7dd85caa",
   "metadata": {},
   "outputs": [],
   "source": [
    "df.corr()"
   ]
  },
  {
   "cell_type": "markdown",
   "id": "d4b7c38a",
   "metadata": {},
   "source": [
    "### 함수 선언 및 구현"
   ]
  },
  {
   "cell_type": "code",
   "execution_count": null,
   "id": "f99a7499",
   "metadata": {},
   "outputs": [],
   "source": [
    "def scaling(train, test):\n",
    "    '''\n",
    "    description:\n",
    "        train, test 데이터를 받아 MinMaxScaling을 하고 Scaler와 Scaling된 데이터 프레임을 반환\n",
    "    Args:\n",
    "        train    : train data\n",
    "        test     : test data\n",
    "    Returns:\n",
    "        sc       : fit 된 MinMaxScaler\n",
    "        train_sc : scaling 된 train DataFrame\n",
    "        test_sc  : scaling 된 test DataFrame\n",
    "    '''   \n",
    "    sc = MinMaxScaler()\n",
    "    train_sc = sc.fit_transform(train)\n",
    "    train_sc = pd.DataFrame(train_sc)\n",
    "    train_sc.columns = train.columns\n",
    "    \n",
    "    test_sc = sc.transform(test)\n",
    "    test_sc = pd.DataFrame(test_sc)\n",
    "    test_sc.columns = test.columns\n",
    "    \n",
    "    return sc, train_sc, test_sc # 이거 229개의 시군구 모델들이 따로있는거야? 아니면 하나의 모델에 229개의 시군구가 한번에 학습딘거야?"
   ]
  },
  {
   "cell_type": "code",
   "execution_count": null,
   "id": "14947549",
   "metadata": {},
   "outputs": [],
   "source": [
    "def make_dataset(data, label, window_size=6):\n",
    "    '''\n",
    "    description:\n",
    "        data와 label, window size를 받아 LSTM에서 시계열 학습을 위해 3차원 데이터로 만든다.\n",
    "    Args:\n",
    "        data        : 변환할 X\n",
    "        label       : 변환할 y\n",
    "        window_size : 학습에 참조할 window 크기\n",
    "    Returns:\n",
    "        np.array(feature_list) : 변환한 X\n",
    "        np.array(label_list)   : 변환한 y\n",
    "    '''\n",
    "    feature_list = []\n",
    "    label_list = []\n",
    "    for i in range(len(data) - window_size):\n",
    "        feature_list.append(np.array(data.iloc[i:i+window_size])) # sliding window 방식\n",
    "        label_list.append(np.array(label.iloc[i+window_size]))\n",
    "    if not feature_list: # forecasting의 경우\n",
    "        feature_list = data.values.reshape(-1, window_size, len(data.columns))\n",
    "    return np.array(feature_list), np.array(label_list)"
   ]
  },
  {
   "cell_type": "code",
   "execution_count": null,
   "id": "f3b87dfe",
   "metadata": {},
   "outputs": [],
   "source": [
    "def split_X_y(df, label_name):\n",
    "    '''\n",
    "    description:\n",
    "        DataFrame을 X와 y로 분리\n",
    "    Args:\n",
    "        df         : 분리할 대상\n",
    "        label_name : Label로 사용할 컬럼명\n",
    "    Returns:\n",
    "        features   : X\n",
    "        label      : y\n",
    "    '''\n",
    "    feature_cols = list(df.drop(label_name, axis=1).columns)\n",
    "    label_cols = label_name\n",
    "    \n",
    "    features = df[feature_cols]\n",
    "    label = df[label_cols]\n",
    "    return features, label"
   ]
  },
  {
   "cell_type": "code",
   "execution_count": null,
   "id": "67ad927a",
   "metadata": {},
   "outputs": [],
   "source": [
    "def split_tr_ts(df, train_size, window_size):\n",
    "    '''\n",
    "    description:\n",
    "        DataFrame을 train-test로 분리\n",
    "    Args:\n",
    "        df          : 분리할 대상\n",
    "        train_size  : train data의 크기\n",
    "        window_size : window의 크기\n",
    "    Returns:\n",
    "        train       : Train DataFrame\n",
    "        test        : Test DataFrame\n",
    "    '''\n",
    "    train = df[:train_size]\n",
    "    test = df[train_size-window_size:] # test size를 보존하기 위해서 window 크기만큼 train data에서 추가로 가져옴\n",
    "    return train, test"
   ]
  },
  {
   "cell_type": "code",
   "execution_count": null,
   "id": "fb90631a",
   "metadata": {},
   "outputs": [],
   "source": [
    "def prepare_data(df, train_size, window_size):\n",
    "    '''\n",
    "    description:\n",
    "        데이터 준비를 총괄하는 함수\n",
    "    Args:\n",
    "        df             : 원본 DataFrame\n",
    "        train_size     : Train data의 크기\n",
    "        window_size    : Window의 크기\n",
    "    Returns:\n",
    "        sc             : fit 된 MinMaxScaler\n",
    "        train_features : Train data의 X\n",
    "        test_features  : Test data의 X\n",
    "        train_label    : Train data의 y\n",
    "        test_label     : Test data의 y\n",
    "    '''\n",
    "    # train - test 분리\n",
    "    train, test = split_tr_ts(df, train_size, window_size)\n",
    "    \n",
    "    # scaling\n",
    "    sc, train_sc, test_sc = scaling(train, test)\n",
    "    \n",
    "    # X - y 분리\n",
    "    train_features, train_label = split_X_y(train_sc, 'VAR16')\n",
    "    test_features, test_label = split_X_y(test_sc, 'VAR16')\n",
    "    \n",
    "    train_features, train_label = make_dataset(train_features, train_label, window_size)\n",
    "    test_features, test_label = make_dataset(test_features, test_label, window_size)\n",
    "    \n",
    "    return sc, train_features, test_features, train_label, test_label"
   ]
  },
  {
   "cell_type": "code",
   "execution_count": null,
   "id": "4ab44b27",
   "metadata": {},
   "outputs": [],
   "source": [
    "def model_creation(train_features):\n",
    "    '''\n",
    "    description:\n",
    "        모델 생성 함수\n",
    "    Args:\n",
    "        train_features : Train data의 X\n",
    "    Returns:\n",
    "        model          : 생성된 모델\n",
    "    '''\n",
    "    model = Sequential()\n",
    "    model.add(LSTM(64, input_shape=(train_features.shape[1], train_features.shape[2]), activation='tanh', return_sequences=True))\n",
    "    model.add(LSTM(16, activation='tanh', return_sequences=False))\n",
    "    model.add(Dense(1))\n",
    "    \n",
    "    model.compile(optimizer='adam', loss='mse')\n",
    "    return model"
   ]
  },
  {
   "cell_type": "code",
   "execution_count": null,
   "id": "6d7b6a95",
   "metadata": {},
   "outputs": [],
   "source": [
    "def fit_model(model, train_features, train_label, epochs, batch_size):\n",
    "    '''\n",
    "    description:\n",
    "        모델 학습 함수\n",
    "    Args:\n",
    "        model          : 학습할 모델\n",
    "        train_features : Train data의 X\n",
    "        train_label    : Train data의 y\n",
    "        epochs         : epoch 수\n",
    "        batch_size     : batch 크기\n",
    "    Returns:\n",
    "        model          : 학습된 모델\n",
    "        history        : 학습한 history\n",
    "    '''\n",
    "    history = model.fit(train_features, train_label, epochs=epochs, batch_size=batch_size, verbose=0)\n",
    "    return model, history"
   ]
  },
  {
   "cell_type": "code",
   "execution_count": null,
   "id": "37a38b30",
   "metadata": {},
   "outputs": [],
   "source": [
    "def modeling(train_features, train_label):\n",
    "    '''\n",
    "    description:\n",
    "        모델 생성 및 학습\n",
    "    Args:\n",
    "        train_features : Train data의 X\n",
    "        train_label    : Train data의 y\n",
    "    Returns:\n",
    "        model_fit      : 학습된 모델\n",
    "    '''\n",
    "    model = model_creation(train_features)\n",
    "    model_fit, history = fit_model(model, train_features, train_label, 35, 32)\n",
    "    return model_fit"
   ]
  },
  {
   "cell_type": "code",
   "execution_count": null,
   "id": "86ccc885",
   "metadata": {},
   "outputs": [],
   "source": [
    "def inverse_series(sc, series, n_features):\n",
    "    '''\n",
    "    description:\n",
    "        Scaling된 Series를 원래 수치로 복원\n",
    "    Args:\n",
    "        sc         : Scaling에 사용한 Scaler\n",
    "        series     : Scaling된 Series\n",
    "        n_features : Scaling할 때 존재했던 feature의 갯수\n",
    "    Returns:\n",
    "        수치가 복원된 series\n",
    "    '''\n",
    "    return sc.inverse_transform(np.concatenate([np.zeros((len(series), n_features)), series.reshape(-1, 1)], 1))"
   ]
  },
  {
   "cell_type": "code",
   "execution_count": null,
   "id": "995bb4c6",
   "metadata": {},
   "outputs": [],
   "source": [
    "def predict_test(model_fit, test_features, test_label, sc, forecast_flg=False):\n",
    "    '''\n",
    "    description:\n",
    "        Test data로 예측\n",
    "    Args:\n",
    "        model_fit     : 학습된 모델\n",
    "        test_features : Test data의 X\n",
    "        test_label    : Test data의 y\n",
    "        sc            : Scaling에 사용한 Scaler\n",
    "        forecast_flg  : Test label이 없는 forecasting임을 알리는 플래그\n",
    "    Returns:\n",
    "        inv_test      : 실제 값\n",
    "        inv_pred      : 예측 값\n",
    "    '''\n",
    "    pred = model_fit.predict(test_features)\n",
    "    if forecast_flg:\n",
    "        inv_pred = inverse_series(sc, pred, test_features.shape[2])\n",
    "        inv_test = None\n",
    "    else:\n",
    "        inv_pred = inverse_series(sc, pred, test_features.shape[2])\n",
    "        inv_test = inverse_series(sc, test_label, test_features.shape[2])\n",
    "    return inv_test, inv_pred"
   ]
  },
  {
   "cell_type": "code",
   "execution_count": null,
   "id": "93fd5e53",
   "metadata": {},
   "outputs": [],
   "source": [
    "def print_mae(inv_actual, inv_pred):\n",
    "    '''\n",
    "    description:\n",
    "        예측한 것에 대한 mae를 출력\n",
    "    Args:\n",
    "        inv_actual : 실제 값\n",
    "        inv_pred   : 예측 값\n",
    "    Returns:\n",
    "        None\n",
    "    '''\n",
    "    print(mean_absolute_error(inv_actual[:, -1], inv_pred[:, -1]))"
   ]
  },
  {
   "cell_type": "code",
   "execution_count": null,
   "id": "a26219f9",
   "metadata": {},
   "outputs": [],
   "source": [
    "def plot_result(y, inv_pred, train_size):\n",
    "    '''\n",
    "    description:\n",
    "        예측 결과를 시각화\n",
    "    Args:\n",
    "        y          : 전체 y값\n",
    "        inv_pred   : 예측 값\n",
    "        train_size : Train data의 크기\n",
    "    Returns:\n",
    "        None\n",
    "    '''\n",
    "    inv_pred = pd.DataFrame(inv_pred[:, -1].round(0))\n",
    "    inv_pred.index = list(range(train_size, len(y)))\n",
    "    \n",
    "    plt.figure(figsize=(15, 5))\n",
    "    plt.plot(y.reset_index(drop=True), label='actual')\n",
    "    plt.plot(inv_pred, label='prediction')\n",
    "    plt.xlabel('시간')\n",
    "    plt.ylabel('VAR16')\n",
    "    plt.show()"
   ]
  },
  {
   "cell_type": "code",
   "execution_count": null,
   "id": "5ecbcf13",
   "metadata": {},
   "outputs": [],
   "source": [
    "def evaluate_model(y, inv_actual, inv_pred, train_size):\n",
    "    '''\n",
    "    description:\n",
    "    Args:\n",
    "        y          : 전체 y값\n",
    "        inv_actual : Test label 값\n",
    "        inv_pred   : 예측 값\n",
    "        train_size : Train data 크기\n",
    "    Returns:\n",
    "        None\n",
    "    '''\n",
    "    print_mae(inv_actual, inv_pred)\n",
    "    plot_result(y, inv_pred, train_size)"
   ]
  },
  {
   "cell_type": "code",
   "execution_count": null,
   "id": "c39368f6",
   "metadata": {
    "scrolled": true
   },
   "outputs": [],
   "source": [
    "sd = df['VAR1'].unique()\n",
    "train_size = 79\n",
    "window_size = 6\n",
    "forecast_flg = True\n",
    "pred_df = pd.DataFrame(columns={'VAR0', 'VAR1','VAR2', 'VAR16'})   \n",
    "\n",
    "for i, v in tqdm(enumerate(sd)):\n",
    "    sd_df = df[df['VAR1']==v]\n",
    "    for j, vv in enumerate(sd_df['VAR2'].unique()):    \n",
    "        # 시군구 단위 데이터 프레임 생성\n",
    "        sgg = sd_df[sd_df['VAR2']==vv].drop(['VAR1','VAR2'], axis=1)\n",
    "        sgg.set_index('VAR0', inplace=True)\n",
    "\n",
    "        # 데이터 준비\n",
    "        sc, train_features, test_features, train_label, test_label = prepare_data(sgg, train_size, window_size)\n",
    "        \n",
    "        # 모델링 및 훈련\n",
    "        model_fit = modeling(train_features, train_label)\n",
    "        \n",
    "        # 예측\n",
    "        inv_test, inv_pred = predict_test(model_fit, test_features, test_label, sc, forecast_flg)\n",
    "        \n",
    "        # 성능 평가\n",
    "        if not forecast_flg:\n",
    "            evaluate_model(sgg['VAR16'], inv_test, inv_pred, train_size)\n",
    "        else:\n",
    "            # 데이터 프레임에 저장\n",
    "            row = pd.DataFrame({'VAR0':'2022-06', \n",
    "                                'VAR1':v, \n",
    "                                'VAR2':vv, \n",
    "                                'VAR16':inv_pred[:, -1].round(0)})\n",
    "            pred_df = pd.concat([pred_df, row], ignore_index=True)\n",
    "        \n",
    "        gc.collect()\n",
    "        clear_session()"
   ]
  }
 ],
 "metadata": {
  "kernelspec": {
   "display_name": "Python 3 (ipykernel)",
   "language": "python",
   "name": "python3"
  },
  "language_info": {
   "codemirror_mode": {
    "name": "ipython",
    "version": 3
   },
   "file_extension": ".py",
   "mimetype": "text/x-python",
   "name": "python",
   "nbconvert_exporter": "python",
   "pygments_lexer": "ipython3",
   "version": "3.9.12"
  }
 },
 "nbformat": 4,
 "nbformat_minor": 5
}
